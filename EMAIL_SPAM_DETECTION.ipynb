{
 "cells": [
  {
   "cell_type": "markdown",
   "id": "0e686fb3",
   "metadata": {},
   "source": [
    "# Email Spam Detection"
   ]
  },
  {
   "cell_type": "markdown",
   "id": "eaaf758f-52d4-4708-a7af-b4faf4c5d762",
   "metadata": {},
   "source": [
    "<p style=\"color: blue; font-size: 30px;\"><b>Count Words in File</b></p>"
   ]
  },
  {
   "cell_type": "markdown",
   "id": "fb3ff12d",
   "metadata": {},
   "source": [
    "This function, count_words_in_file, is like a word detective scanning a file for specific terms you care about. Here’s how it works, step-by-step:\n",
    "\n",
    "## Function Purpose\n",
    "It counts how many times each word from a given list appears in a text file.\n",
    "\n",
    "Parameters\n",
    "* **filename:** The name of the text file to read.\n",
    "* **word_list:** A list (array) of words you want to count in that file.\n",
    "\n",
    "## Step-by-step Breakdown\n",
    "### 1.  Initialize Word Counts:\n",
    "\n",
    "```\n",
    "word_count = {word.lower(): 0 for word in word_list}\n",
    "```\n",
    "This creates a dictionary where each word from your list is a key (converted to lowercase for consistency), and its value starts at 0.\n",
    "\n",
    "#### 2. Open File Safely:\n",
    "\n",
    "```\n",
    "with open(filename, 'r', encoding='utf-8') as file:\n",
    "```\n",
    "Tries to open the file in read mode using UTF-8 encoding. If it doesn't exist, it throws a FileNotFoundError, which is handled later.\n",
    "\n",
    "#### 3. Read the File Line by Line:\n",
    "\n",
    "```\n",
    "for line in file:\n",
    "    words = line.lower().split()\n",
    "```\n",
    "Each line is converted to lowercase and then split into individual words (based on whitespace).\n",
    "\n",
    "#### 4. Count Target Words:\n",
    "\n",
    "```\n",
    "for word in words:\n",
    "    if word in word_count:\n",
    "        word_count[word] += 1\n",
    "```\n",
    "For every word in that line, it checks if it's in the word_count dictionary. If so, it increments the count.\n",
    "\n",
    "#### 5. Handle Missing File:\n",
    "\n",
    "```\n",
    "except FileNotFoundError:\n",
    "    print(f\"File '{filename}' not found.\")\n",
    "    return None\n",
    "\n",
    "```\n",
    "If the file isn’t found, it prints a friendly message and exits gracefully.\n",
    "\n",
    "#### 6. Return the Final Tally:\n",
    "\n",
    "```\n",
    "return word_count\n",
    "\n",
    "```\n",
    "After reading the whole file, it returns the dictionary with word counts.\n",
    "\n"
   ]
  },
  {
   "cell_type": "code",
   "execution_count": 31,
   "id": "10398c1a",
   "metadata": {},
   "outputs": [],
   "source": [
    "def count_words_in_file(filename, word_list):\n",
    "    word_count = {word.lower(): 0 for word in word_list}\n",
    "    \n",
    "    try:\n",
    "        with open(filename, 'r', encoding='utf-8') as file:\n",
    "            for line in file:\n",
    "                words = line.lower().split()\n",
    "                for word in words:\n",
    "                    if word in word_count:\n",
    "                        word_count[word] += 1\n",
    "    except FileNotFoundError:\n",
    "        print(f\"File '{filename}' not found.\")\n",
    "        return None\n",
    "\n",
    "    return word_count"
   ]
  },
  {
   "cell_type": "code",
   "execution_count": 32,
   "id": "c0cd41c6",
   "metadata": {},
   "outputs": [
    {
     "name": "stdout",
     "output_type": "stream",
     "text": [
      "'lottery' appears 4 times.\n",
      "'now' appears 5 times.\n",
      "'free' appears 1 times.\n"
     ]
    }
   ],
   "source": [
    "# Example usage\n",
    "filename = \"spam_email.txt\"\n",
    "words_to_count = [\"lottery\", \"now\", \"free\"]\n",
    "result = count_words_in_file(filename, words_to_count)\n",
    "\n",
    "if result:\n",
    "    for word, count in result.items():\n",
    "        print(f\"'{word}' appears {count} times.\")"
   ]
  },
  {
   "cell_type": "markdown",
   "id": "abc64ae8-6e47-4616-9209-1e549016ff57",
   "metadata": {},
   "source": [
    "<p style=\"color: blue; font-size: 30px;\"><b>Spam Detector using PyTorch</b></p>"
   ]
  },
  {
   "cell_type": "markdown",
   "id": "35c3a6b5-769a-4302-82d4-ad7c4ed8a0d7",
   "metadata": {},
   "source": [
    "Let's break this down step by step so you can see exactly what's happening in your neural network code. You're building a simple spam detector using PyTorch that takes in three binary features — whether the words \"lottery\", \"now\", and \"free\" appear in a message — and outputs a probability that the message is spam"
   ]
  },
  {
   "cell_type": "markdown",
   "id": "89f0b99f-47c2-4d9c-8763-4b395e8a1446",
   "metadata": {},
   "source": [
    "# 🧠 1. Imports"
   ]
  },
  {
   "cell_type": "code",
   "execution_count": 36,
   "id": "f1c6b1f0",
   "metadata": {},
   "outputs": [],
   "source": [
    "import torch\n",
    "import torch.nn as nn\n",
    "import torch.nn.functional as F\n"
   ]
  },
  {
   "cell_type": "markdown",
   "id": "66213e49-77dd-4dbd-b68b-77a001f6b0be",
   "metadata": {},
   "source": [
    "* **torch:** The core PyTorch library.\n",
    "* **torch.nn:** Tools for building neural networks.\n",
    "* **torch.nn.functional:** Contains activation functions like ReLU and sigmoid."
   ]
  },
  {
   "cell_type": "markdown",
   "id": "ecf59e02-09a6-4bc4-a29d-d4e029e45fa6",
   "metadata": {},
   "source": [
    "# 🧾 2. Input Vector"
   ]
  },
  {
   "cell_type": "code",
   "execution_count": 47,
   "id": "12bb254d-d6c5-4c2b-a93d-c08cbc1d0bf6",
   "metadata": {},
   "outputs": [],
   "source": [
    "# Sample input: message contains all three words\n",
    "x = torch.tensor([list(result.values())], dtype=torch.float32) # shape: (1, 3)"
   ]
  },
  {
   "cell_type": "markdown",
   "id": "aec9be0a-49a5-45e6-a1c6-5c85ecb4d6be",
   "metadata": {},
   "source": [
    "* **result** is assumed to be a dictionary like:\n",
    "\n",
    "```\n",
    "result = {'lottery': 1, 'now': 0, 'free': 1}\n",
    "```\n",
    "\n",
    "* **list(result.values()) → [1, 0, 1]**\n",
    "\n",
    "* Wrapping it in **[ ... ]** makes it a 2D tensor with shape **(1, 3)** — one sample with three features.\n",
    "\n",
    "* **dtype=torch.float32** ensures compatibility with the model’s weights."
   ]
  },
  {
   "cell_type": "markdown",
   "id": "e973b67c-bc5a-410b-ac8f-acccdfa223e2",
   "metadata": {},
   "source": [
    "# 🏗️ 3. Neural Network Definition"
   ]
  },
  {
   "cell_type": "code",
   "execution_count": 53,
   "id": "f86b063d-3462-43c5-bc0e-77611ca2b24e",
   "metadata": {},
   "outputs": [],
   "source": [
    "# Define the neural network\n",
    "class SpamDetector(nn.Module):\n",
    "    def __init__(self):\n",
    "        super(SpamDetector, self).__init__()\n",
    "        self.fc1 = nn.Linear(3, 4)  # input layer to hidden layer\n",
    "        self.fc2 = nn.Linear(4, 1)  # hidden layer to output\n",
    "\n",
    "    def forward(self, x):\n",
    "        x = F.relu(self.fc1(x))\n",
    "        x = torch.sigmoid(self.fc2(x))  # output between 0 and 1\n",
    "        return x\n",
    "\n"
   ]
  },
  {
   "cell_type": "markdown",
   "id": "c6b8c458-845b-461f-be33-a5cdb33c2877",
   "metadata": {},
   "source": [
    "* **fc1:** First fully connected layer (input → hidden).\n",
    "\n",
    "* **fc2:** Second fully connected layer (hidden → output).\n",
    "\n",
    "* **ReLU:** Introduces non-linearity.\n",
    "\n",
    "* **Sigmoid:** Squashes output to range (0, 1), representing spam probability."
   ]
  },
  {
   "cell_type": "markdown",
   "id": "44bd35fa-cd97-4f7a-9db1-5837366c12a7",
   "metadata": {},
   "source": [
    "# 🚀 4. Model Execution"
   ]
  },
  {
   "cell_type": "code",
   "execution_count": 57,
   "id": "555f7c17-d400-46a7-a53c-a1f28abb6e03",
   "metadata": {},
   "outputs": [
    {
     "name": "stdout",
     "output_type": "stream",
     "text": [
      "Spam probability: 0.7412\n"
     ]
    }
   ],
   "source": [
    "# Instantiate and run the model\n",
    "model = SpamDetector()\n",
    "output = model(x)\n",
    "print(f\"Spam probability: {output.item():.4f}\")"
   ]
  },
  {
   "cell_type": "markdown",
   "id": "38b36071-4dbb-4737-b2bd-8d90e5fc35ef",
   "metadata": {},
   "source": [
    "* **model(x):** Passes the input through the network.\n",
    "\n",
    "* **output.item():** Extracts the scalar value from the tensor.\n",
    "\n",
    "* Prints the probability that the message is spam."
   ]
  },
  {
   "cell_type": "markdown",
   "id": "88e1a270-ac09-465c-a34c-56dce619e722",
   "metadata": {},
   "source": [
    "# [Email Spam Detection](./README.md)"
   ]
  }
 ],
 "metadata": {
  "kernelspec": {
   "display_name": "Python [conda env:base] *",
   "language": "python",
   "name": "conda-base-py"
  },
  "language_info": {
   "codemirror_mode": {
    "name": "ipython",
    "version": 3
   },
   "file_extension": ".py",
   "mimetype": "text/x-python",
   "name": "python",
   "nbconvert_exporter": "python",
   "pygments_lexer": "ipython3",
   "version": "3.12.3"
  }
 },
 "nbformat": 4,
 "nbformat_minor": 5
}
