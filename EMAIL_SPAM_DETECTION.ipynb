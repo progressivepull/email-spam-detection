{
 "cells": [
  {
   "cell_type": "markdown",
   "id": "0e686fb3",
   "metadata": {},
   "source": [
    "# Email Spam Detection"
   ]
  },
  {
   "cell_type": "markdown",
   "id": "fb3ff12d",
   "metadata": {},
   "source": [
    "This function, count_words_in_file, is like a word detective scanning a file for specific terms you care about. Here’s how it works, step-by-step:\n",
    "\n",
    "## Function Purpose\n",
    "It counts how many times each word from a given list appears in a text file.\n",
    "\n",
    "Parameters\n",
    "* **filename:** The name of the text file to read.\n",
    "* **word_list:** A list (array) of words you want to count in that file.\n",
    "\n",
    "## Step-by-step Breakdown\n",
    "### 1.  Initialize Word Counts:\n",
    "\n",
    "```\n",
    "word_count = {word.lower(): 0 for word in word_list}\n",
    "```\n",
    "This creates a dictionary where each word from your list is a key (converted to lowercase for consistency), and its value starts at 0.\n",
    "\n",
    "#### 2. Open File Safely:\n",
    "\n",
    "```\n",
    "with open(filename, 'r', encoding='utf-8') as file:\n",
    "```\n",
    "Tries to open the file in read mode using UTF-8 encoding. If it doesn't exist, it throws a FileNotFoundError, which is handled later.\n",
    "\n",
    "#### 3. Read the File Line by Line:\n",
    "\n",
    "```\n",
    "for line in file:\n",
    "    words = line.lower().split()\n",
    "```\n",
    "Each line is converted to lowercase and then split into individual words (based on whitespace).\n",
    "\n",
    "#### 4. Count Target Words:\n",
    "\n",
    "```\n",
    "for word in words:\n",
    "    if word in word_count:\n",
    "        word_count[word] += 1\n",
    "```\n",
    "For every word in that line, it checks if it's in the word_count dictionary. If so, it increments the count.\n",
    "\n",
    "#### 5. Handle Missing File:\n",
    "\n",
    "```\n",
    "except FileNotFoundError:\n",
    "    print(f\"File '{filename}' not found.\")\n",
    "    return None\n",
    "\n",
    "```\n",
    "If the file isn’t found, it prints a friendly message and exits gracefully.\n",
    "\n",
    "#### 6. Return the Final Tally:\n",
    "\n",
    "```\n",
    "return word_count\n",
    "\n",
    "```\n",
    "After reading the whole file, it returns the dictionary with word counts.\n",
    "\n"
   ]
  },
  {
   "cell_type": "code",
   "execution_count": 1,
   "id": "10398c1a",
   "metadata": {},
   "outputs": [],
   "source": [
    "def count_words_in_file(filename, word_list):\n",
    "    word_count = {word.lower(): 0 for word in word_list}\n",
    "    \n",
    "    try:\n",
    "        with open(filename, 'r', encoding='utf-8') as file:\n",
    "            for line in file:\n",
    "                words = line.lower().split()\n",
    "                for word in words:\n",
    "                    if word in word_count:\n",
    "                        word_count[word] += 1\n",
    "    except FileNotFoundError:\n",
    "        print(f\"File '{filename}' not found.\")\n",
    "        return None\n",
    "\n",
    "    return word_count"
   ]
  },
  {
   "cell_type": "code",
   "execution_count": 3,
   "id": "c0cd41c6",
   "metadata": {},
   "outputs": [
    {
     "name": "stdout",
     "output_type": "stream",
     "text": [
      "'lottery' appears 4 times.\n",
      "'now' appears 5 times.\n",
      "'free' appears 1 times.\n"
     ]
    }
   ],
   "source": [
    "# Example usage\n",
    "filename = \"spam_email.txt\"\n",
    "words_to_count = [\"lottery\", \"now\", \"free\"]\n",
    "result = count_words_in_file(filename, words_to_count)\n",
    "\n",
    "if result:\n",
    "    for word, count in result.items():\n",
    "        print(f\"'{word}' appears {count} times.\")"
   ]
  },
  {
   "cell_type": "code",
   "execution_count": null,
   "id": "f1c6b1f0",
   "metadata": {},
   "outputs": [],
   "source": []
  }
 ],
 "metadata": {
  "kernelspec": {
   "display_name": "Python 3 (ipykernel)",
   "language": "python",
   "name": "python3"
  },
  "language_info": {
   "codemirror_mode": {
    "name": "ipython",
    "version": 3
   },
   "file_extension": ".py",
   "mimetype": "text/x-python",
   "name": "python",
   "nbconvert_exporter": "python",
   "pygments_lexer": "ipython3",
   "version": "3.11.5"
  }
 },
 "nbformat": 4,
 "nbformat_minor": 5
}
